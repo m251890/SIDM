{
 "cells": [
  {
   "cell_type": "markdown",
   "id": "6f2be0a4-e41c-4360-a649-e8536b874cdb",
   "metadata": {},
   "source": [
    "The purpose of this notebook is to evaluate the electron and photon IDs and determine the best way to handle potential overlaps. It borrows from some of the nice efficiency studies from Maria in the lj_reco_efficiency directory.\n",
    "\n",
    "Logistics:\n",
    "\n",
    "Need to study 2mu2e sample; copied part of Dongyub's yaml to this branch\n",
    "For now, just studying the effects with the normal loose electron ID, not the loose ID minus n missing hits\n",
    "Defined five new cuts, keeping all events but varying the photon ID definition:\n",
    "- Loose photons\n",
    "- Loose photons that also pass the electron conversion veto\n",
    "- Loose photons that also pass the electron conversion veto or are far away from electrons\n",
    "- Loose photons that also pass the pixel seed veto\n",
    "- Loose photons that also pass the pixel seed veto or are far away from electrons\n",
    "\n",
    "Current step: Check effect on efficiency (and invariant mass?) plots"
   ]
  },
  {
   "cell_type": "code",
   "execution_count": 1,
   "id": "bdcfb0a8-3fb4-4ddd-81fe-40247c9fa7e5",
   "metadata": {
    "tags": []
   },
   "outputs": [],
   "source": [
    "# python\n",
    "import sys\n",
    "import os\n",
    "import importlib\n",
    "import numpy as np\n",
    "# columnar analysis\n",
    "import awkward as ak\n",
    "from coffea.nanoevents import NanoEventsFactory, NanoAODSchema\n",
    "from coffea import processor\n",
    "# local\n",
    "sys.path.insert(1, os.path.join(sys.path[0], '../../..')) # fixme: there must be a better way to handle this...\n",
    "from sidm.tools import sidm_processor, utilities\n",
    "# always reload local modules to pick up changes during development\n",
    "importlib.reload(sidm_processor)\n",
    "importlib.reload(utilities)\n",
    "# plotting\n",
    "import matplotlib.pyplot as plt\n",
    "from matplotlib.artist import Artist \n",
    "utilities.set_plot_style()\n",
    "%matplotlib inline"
   ]
  },
  {
   "cell_type": "code",
   "execution_count": 2,
   "id": "558c8fa2-3487-433f-85f5-bc596da1f494",
   "metadata": {
    "tags": []
   },
   "outputs": [
    {
     "data": {
      "application/vnd.jupyter.widget-view+json": {
       "model_id": "e8d25f5911ae4439b4ee178012b53b11",
       "version_major": 2,
       "version_minor": 0
      },
      "text/plain": [
       "Output()"
      ]
     },
     "metadata": {},
     "output_type": "display_data"
    },
    {
     "data": {
      "text/html": [
       "<pre style=\"white-space:pre;overflow-x:auto;line-height:normal;font-family:Menlo,'DejaVu Sans Mono',consolas,'Courier New',monospace\"></pre>\n"
      ],
      "text/plain": []
     },
     "metadata": {},
     "output_type": "display_data"
    },
    {
     "data": {
      "text/html": [
       "<pre style=\"white-space:pre;overflow-x:auto;line-height:normal;font-family:Menlo,'DejaVu Sans Mono',consolas,'Courier New',monospace\">\n",
       "</pre>\n"
      ],
      "text/plain": [
       "\n"
      ]
     },
     "metadata": {},
     "output_type": "display_data"
    },
    {
     "data": {
      "application/vnd.jupyter.widget-view+json": {
       "model_id": "6ccf1d4ed78a43be9b46635e5157add6",
       "version_major": 2,
       "version_minor": 0
      },
      "text/plain": [
       "Output()"
      ]
     },
     "metadata": {},
     "output_type": "display_data"
    },
    {
     "data": {
      "text/html": [
       "<pre style=\"white-space:pre;overflow-x:auto;line-height:normal;font-family:Menlo,'DejaVu Sans Mono',consolas,'Courier New',monospace\">Not applying any obj cuts after LJ clustering for channel AllEvts_ElectronVetoPhotons\n",
       "</pre>\n"
      ],
      "text/plain": [
       "Not applying any obj cuts after LJ clustering for channel AllEvts_ElectronVetoPhotons\n"
      ]
     },
     "metadata": {},
     "output_type": "display_data"
    },
    {
     "data": {
      "text/html": [
       "<pre style=\"white-space:pre;overflow-x:auto;line-height:normal;font-family:Menlo,'DejaVu Sans Mono',consolas,'Courier New',monospace\">Not applying any obj cuts after LJ clustering for channel AllEvts_ElectronVetoPhotonsOrIsoPhotons\n",
       "</pre>\n"
      ],
      "text/plain": [
       "Not applying any obj cuts after LJ clustering for channel AllEvts_ElectronVetoPhotonsOrIsoPhotons\n"
      ]
     },
     "metadata": {},
     "output_type": "display_data"
    },
    {
     "data": {
      "text/html": [
       "<pre style=\"white-space:pre;overflow-x:auto;line-height:normal;font-family:Menlo,'DejaVu Sans Mono',consolas,'Courier New',monospace\">Not applying any obj cuts after LJ clustering for channel AllEvts_PixelSeedPhotons\n",
       "</pre>\n"
      ],
      "text/plain": [
       "Not applying any obj cuts after LJ clustering for channel AllEvts_PixelSeedPhotons\n"
      ]
     },
     "metadata": {},
     "output_type": "display_data"
    },
    {
     "data": {
      "text/html": [
       "<pre style=\"white-space:pre;overflow-x:auto;line-height:normal;font-family:Menlo,'DejaVu Sans Mono',consolas,'Courier New',monospace\">Not applying any obj cuts after LJ clustering for channel AllEvts_PixelSeedPhotonsOrIsoPhotons\n",
       "</pre>\n"
      ],
      "text/plain": [
       "Not applying any obj cuts after LJ clustering for channel AllEvts_PixelSeedPhotonsOrIsoPhotons\n"
      ]
     },
     "metadata": {},
     "output_type": "display_data"
    },
    {
     "data": {
      "text/html": [
       "<pre style=\"white-space:pre;overflow-x:auto;line-height:normal;font-family:Menlo,'DejaVu Sans Mono',consolas,'Courier New',monospace\">Not applying any obj cuts after LJ clustering for channel AllEvts_AllLoosePhotons\n",
       "</pre>\n"
      ],
      "text/plain": [
       "Not applying any obj cuts after LJ clustering for channel AllEvts_AllLoosePhotons\n"
      ]
     },
     "metadata": {},
     "output_type": "display_data"
    },
    {
     "data": {
      "text/html": [
       "<pre style=\"white-space:pre;overflow-x:auto;line-height:normal;font-family:Menlo,'DejaVu Sans Mono',consolas,'Courier New',monospace\">/opt/conda/lib/python3.9/site-packages/awkward/_connect/_numpy.py:195: RuntimeWarning: divide by zero encountered \n",
       "in divide\n",
       "  result = getattr(ufunc, method)(\n",
       "</pre>\n"
      ],
      "text/plain": [
       "/opt/conda/lib/python3.9/site-packages/awkward/_connect/_numpy.py:195: RuntimeWarning: divide by zero encountered \n",
       "in divide\n",
       "  result = getattr(ufunc, method)(\n"
      ]
     },
     "metadata": {},
     "output_type": "display_data"
    },
    {
     "data": {
      "text/html": [
       "<pre style=\"white-space:pre;overflow-x:auto;line-height:normal;font-family:Menlo,'DejaVu Sans Mono',consolas,'Courier New',monospace\">/opt/conda/lib/python3.9/site-packages/awkward/_connect/_numpy.py:195: RuntimeWarning: invalid value encountered in\n",
       "divide\n",
       "  result = getattr(ufunc, method)(\n",
       "</pre>\n"
      ],
      "text/plain": [
       "/opt/conda/lib/python3.9/site-packages/awkward/_connect/_numpy.py:195: RuntimeWarning: invalid value encountered in\n",
       "divide\n",
       "  result = getattr(ufunc, method)(\n"
      ]
     },
     "metadata": {},
     "output_type": "display_data"
    },
    {
     "name": "stdout",
     "output_type": "stream",
     "text": [
      "#--------------------------------------------------------------------------\n",
      "#                         FastJet release 3.4.0\n",
      "#                 M. Cacciari, G.P. Salam and G. Soyez                  \n",
      "#     A software package for jet finding and analysis at colliders      \n",
      "#                           http://fastjet.fr                           \n",
      "#\t                                                                      \n",
      "# Please cite EPJC72(2012)1896 [arXiv:1111.6097] if you use this package\n",
      "# for scientific work and optionally PLB641(2006)57 [hep-ph/0512210].   \n",
      "#                                                                       \n",
      "# FastJet is provided without warranty under the GNU GPL v2 or higher.  \n",
      "# It uses T. Chan's closest pair algorithm, S. Fortune's Voronoi code,\n",
      "# CGAL and 3rd party plugin jet algorithms. See COPYING file for details.\n",
      "#--------------------------------------------------------------------------\n"
     ]
    },
    {
     "data": {
      "text/html": [
       "<pre style=\"white-space:pre;overflow-x:auto;line-height:normal;font-family:Menlo,'DejaVu Sans Mono',consolas,'Courier New',monospace\">Not applying any obj cuts after LJ clustering for channel AllEvts_ElectronVetoPhotons\n",
       "</pre>\n"
      ],
      "text/plain": [
       "Not applying any obj cuts after LJ clustering for channel AllEvts_ElectronVetoPhotons\n"
      ]
     },
     "metadata": {},
     "output_type": "display_data"
    },
    {
     "data": {
      "text/html": [
       "<pre style=\"white-space:pre;overflow-x:auto;line-height:normal;font-family:Menlo,'DejaVu Sans Mono',consolas,'Courier New',monospace\">Not applying any obj cuts after LJ clustering for channel AllEvts_ElectronVetoPhotonsOrIsoPhotons\n",
       "</pre>\n"
      ],
      "text/plain": [
       "Not applying any obj cuts after LJ clustering for channel AllEvts_ElectronVetoPhotonsOrIsoPhotons\n"
      ]
     },
     "metadata": {},
     "output_type": "display_data"
    },
    {
     "data": {
      "text/html": [
       "<pre style=\"white-space:pre;overflow-x:auto;line-height:normal;font-family:Menlo,'DejaVu Sans Mono',consolas,'Courier New',monospace\">Not applying any obj cuts after LJ clustering for channel AllEvts_PixelSeedPhotons\n",
       "</pre>\n"
      ],
      "text/plain": [
       "Not applying any obj cuts after LJ clustering for channel AllEvts_PixelSeedPhotons\n"
      ]
     },
     "metadata": {},
     "output_type": "display_data"
    },
    {
     "data": {
      "text/html": [
       "<pre style=\"white-space:pre;overflow-x:auto;line-height:normal;font-family:Menlo,'DejaVu Sans Mono',consolas,'Courier New',monospace\">Not applying any obj cuts after LJ clustering for channel AllEvts_PixelSeedPhotonsOrIsoPhotons\n",
       "</pre>\n"
      ],
      "text/plain": [
       "Not applying any obj cuts after LJ clustering for channel AllEvts_PixelSeedPhotonsOrIsoPhotons\n"
      ]
     },
     "metadata": {},
     "output_type": "display_data"
    },
    {
     "data": {
      "text/html": [
       "<pre style=\"white-space:pre;overflow-x:auto;line-height:normal;font-family:Menlo,'DejaVu Sans Mono',consolas,'Courier New',monospace\">Not applying any obj cuts after LJ clustering for channel AllEvts_AllLoosePhotons\n",
       "</pre>\n"
      ],
      "text/plain": [
       "Not applying any obj cuts after LJ clustering for channel AllEvts_AllLoosePhotons\n"
      ]
     },
     "metadata": {},
     "output_type": "display_data"
    },
    {
     "data": {
      "text/html": [
       "<pre style=\"white-space:pre;overflow-x:auto;line-height:normal;font-family:Menlo,'DejaVu Sans Mono',consolas,'Courier New',monospace\">Not applying any obj cuts after LJ clustering for channel AllEvts_ElectronVetoPhotons\n",
       "</pre>\n"
      ],
      "text/plain": [
       "Not applying any obj cuts after LJ clustering for channel AllEvts_ElectronVetoPhotons\n"
      ]
     },
     "metadata": {},
     "output_type": "display_data"
    },
    {
     "data": {
      "text/html": [
       "<pre style=\"white-space:pre;overflow-x:auto;line-height:normal;font-family:Menlo,'DejaVu Sans Mono',consolas,'Courier New',monospace\">Not applying any obj cuts after LJ clustering for channel AllEvts_ElectronVetoPhotonsOrIsoPhotons\n",
       "</pre>\n"
      ],
      "text/plain": [
       "Not applying any obj cuts after LJ clustering for channel AllEvts_ElectronVetoPhotonsOrIsoPhotons\n"
      ]
     },
     "metadata": {},
     "output_type": "display_data"
    },
    {
     "data": {
      "text/html": [
       "<pre style=\"white-space:pre;overflow-x:auto;line-height:normal;font-family:Menlo,'DejaVu Sans Mono',consolas,'Courier New',monospace\">Not applying any obj cuts after LJ clustering for channel AllEvts_PixelSeedPhotons\n",
       "</pre>\n"
      ],
      "text/plain": [
       "Not applying any obj cuts after LJ clustering for channel AllEvts_PixelSeedPhotons\n"
      ]
     },
     "metadata": {},
     "output_type": "display_data"
    },
    {
     "data": {
      "text/html": [
       "<pre style=\"white-space:pre;overflow-x:auto;line-height:normal;font-family:Menlo,'DejaVu Sans Mono',consolas,'Courier New',monospace\">Not applying any obj cuts after LJ clustering for channel AllEvts_PixelSeedPhotonsOrIsoPhotons\n",
       "</pre>\n"
      ],
      "text/plain": [
       "Not applying any obj cuts after LJ clustering for channel AllEvts_PixelSeedPhotonsOrIsoPhotons\n"
      ]
     },
     "metadata": {},
     "output_type": "display_data"
    },
    {
     "data": {
      "text/html": [
       "<pre style=\"white-space:pre;overflow-x:auto;line-height:normal;font-family:Menlo,'DejaVu Sans Mono',consolas,'Courier New',monospace\">Not applying any obj cuts after LJ clustering for channel AllEvts_AllLoosePhotons\n",
       "</pre>\n"
      ],
      "text/plain": [
       "Not applying any obj cuts after LJ clustering for channel AllEvts_AllLoosePhotons\n"
      ]
     },
     "metadata": {},
     "output_type": "display_data"
    },
    {
     "data": {
      "text/html": [
       "<pre style=\"white-space:pre;overflow-x:auto;line-height:normal;font-family:Menlo,'DejaVu Sans Mono',consolas,'Courier New',monospace\">Not applying any obj cuts after LJ clustering for channel AllEvts_ElectronVetoPhotons\n",
       "</pre>\n"
      ],
      "text/plain": [
       "Not applying any obj cuts after LJ clustering for channel AllEvts_ElectronVetoPhotons\n"
      ]
     },
     "metadata": {},
     "output_type": "display_data"
    },
    {
     "data": {
      "text/html": [
       "<pre style=\"white-space:pre;overflow-x:auto;line-height:normal;font-family:Menlo,'DejaVu Sans Mono',consolas,'Courier New',monospace\">Not applying any obj cuts after LJ clustering for channel AllEvts_ElectronVetoPhotonsOrIsoPhotons\n",
       "</pre>\n"
      ],
      "text/plain": [
       "Not applying any obj cuts after LJ clustering for channel AllEvts_ElectronVetoPhotonsOrIsoPhotons\n"
      ]
     },
     "metadata": {},
     "output_type": "display_data"
    },
    {
     "data": {
      "text/html": [
       "<pre style=\"white-space:pre;overflow-x:auto;line-height:normal;font-family:Menlo,'DejaVu Sans Mono',consolas,'Courier New',monospace\">Not applying any obj cuts after LJ clustering for channel AllEvts_PixelSeedPhotons\n",
       "</pre>\n"
      ],
      "text/plain": [
       "Not applying any obj cuts after LJ clustering for channel AllEvts_PixelSeedPhotons\n"
      ]
     },
     "metadata": {},
     "output_type": "display_data"
    },
    {
     "data": {
      "text/html": [
       "<pre style=\"white-space:pre;overflow-x:auto;line-height:normal;font-family:Menlo,'DejaVu Sans Mono',consolas,'Courier New',monospace\">Not applying any obj cuts after LJ clustering for channel AllEvts_PixelSeedPhotonsOrIsoPhotons\n",
       "</pre>\n"
      ],
      "text/plain": [
       "Not applying any obj cuts after LJ clustering for channel AllEvts_PixelSeedPhotonsOrIsoPhotons\n"
      ]
     },
     "metadata": {},
     "output_type": "display_data"
    },
    {
     "data": {
      "text/html": [
       "<pre style=\"white-space:pre;overflow-x:auto;line-height:normal;font-family:Menlo,'DejaVu Sans Mono',consolas,'Courier New',monospace\">Not applying any obj cuts after LJ clustering for channel AllEvts_AllLoosePhotons\n",
       "</pre>\n"
      ],
      "text/plain": [
       "Not applying any obj cuts after LJ clustering for channel AllEvts_AllLoosePhotons\n"
      ]
     },
     "metadata": {},
     "output_type": "display_data"
    },
    {
     "data": {
      "text/html": [
       "<pre style=\"white-space:pre;overflow-x:auto;line-height:normal;font-family:Menlo,'DejaVu Sans Mono',consolas,'Courier New',monospace\">Not applying any obj cuts after LJ clustering for channel AllEvts_ElectronVetoPhotons\n",
       "</pre>\n"
      ],
      "text/plain": [
       "Not applying any obj cuts after LJ clustering for channel AllEvts_ElectronVetoPhotons\n"
      ]
     },
     "metadata": {},
     "output_type": "display_data"
    },
    {
     "data": {
      "text/html": [
       "<pre style=\"white-space:pre;overflow-x:auto;line-height:normal;font-family:Menlo,'DejaVu Sans Mono',consolas,'Courier New',monospace\">Not applying any obj cuts after LJ clustering for channel AllEvts_ElectronVetoPhotonsOrIsoPhotons\n",
       "</pre>\n"
      ],
      "text/plain": [
       "Not applying any obj cuts after LJ clustering for channel AllEvts_ElectronVetoPhotonsOrIsoPhotons\n"
      ]
     },
     "metadata": {},
     "output_type": "display_data"
    },
    {
     "data": {
      "text/html": [
       "<pre style=\"white-space:pre;overflow-x:auto;line-height:normal;font-family:Menlo,'DejaVu Sans Mono',consolas,'Courier New',monospace\">Not applying any obj cuts after LJ clustering for channel AllEvts_PixelSeedPhotons\n",
       "</pre>\n"
      ],
      "text/plain": [
       "Not applying any obj cuts after LJ clustering for channel AllEvts_PixelSeedPhotons\n"
      ]
     },
     "metadata": {},
     "output_type": "display_data"
    },
    {
     "data": {
      "text/html": [
       "<pre style=\"white-space:pre;overflow-x:auto;line-height:normal;font-family:Menlo,'DejaVu Sans Mono',consolas,'Courier New',monospace\">Not applying any obj cuts after LJ clustering for channel AllEvts_PixelSeedPhotonsOrIsoPhotons\n",
       "</pre>\n"
      ],
      "text/plain": [
       "Not applying any obj cuts after LJ clustering for channel AllEvts_PixelSeedPhotonsOrIsoPhotons\n"
      ]
     },
     "metadata": {},
     "output_type": "display_data"
    },
    {
     "data": {
      "text/html": [
       "<pre style=\"white-space:pre;overflow-x:auto;line-height:normal;font-family:Menlo,'DejaVu Sans Mono',consolas,'Courier New',monospace\">Not applying any obj cuts after LJ clustering for channel AllEvts_AllLoosePhotons\n",
       "</pre>\n"
      ],
      "text/plain": [
       "Not applying any obj cuts after LJ clustering for channel AllEvts_AllLoosePhotons\n"
      ]
     },
     "metadata": {},
     "output_type": "display_data"
    },
    {
     "data": {
      "text/html": [
       "<pre style=\"white-space:pre;overflow-x:auto;line-height:normal;font-family:Menlo,'DejaVu Sans Mono',consolas,'Courier New',monospace\"></pre>\n"
      ],
      "text/plain": []
     },
     "metadata": {},
     "output_type": "display_data"
    },
    {
     "data": {
      "text/html": [
       "<pre style=\"white-space:pre;overflow-x:auto;line-height:normal;font-family:Menlo,'DejaVu Sans Mono',consolas,'Courier New',monospace\">\n",
       "</pre>\n"
      ],
      "text/plain": [
       "\n"
      ]
     },
     "metadata": {},
     "output_type": "display_data"
    }
   ],
   "source": [
    "samples = [\n",
    "    '2mu2e_500GeV_5GeV_0p08mm',\n",
    "    '2mu2e_500GeV_5GeV_0p8mm',\n",
    "    '2mu2e_500GeV_5GeV_8p0mm',\n",
    "    '2mu2e_500GeV_5GeV_40p0mm',\n",
    "    '2mu2e_500GeV_5GeV_80p0mm'    \n",
    "]\n",
    "fileset = utilities.make_fileset(samples, \"llpNanoAOD_v2_merged\")\n",
    "\n",
    "runner = processor.Runner(\n",
    "    executor=processor.IterativeExecutor(),\n",
    "    #executor=processor.FuturesExecutor(),\n",
    "    schema=NanoAODSchema,\n",
    "    # maxchunks=1,\n",
    ")\n",
    "\n",
    "p = sidm_processor.SidmProcessor(\n",
    "    [\n",
    "        \"AllEvts_ElectronVetoPhotons\", \"AllEvts_ElectronVetoPhotonsOrIsoPhotons\", \n",
    "        \"AllEvts_PixelSeedPhotons\", \"AllEvts_PixelSeedPhotonsOrIsoPhotons\",\n",
    "        \"AllEvts_AllLoosePhotons\"\n",
    "        #GED photons are iso photons passed the PF ID\n",
    "    ],\n",
    "    [\"gen_base\"],\n",
    "    lj_reco_choices=[\"0.4\"],\n",
    "    llpnanoaod=True,\n",
    "    verbose=False,\n",
    ")\n",
    "\n",
    "output = runner.run(fileset, treename='Events', processor_instance=p)\n",
    "out = output[\"out\"]\n"
   ]
  },
  {
   "cell_type": "markdown",
   "id": "884d8241-7689-4bd1-9a89-f87e216218c4",
   "metadata": {},
   "source": [
    "# Funtions of Code"
   ]
  },
  {
   "cell_type": "raw",
   "id": "8ae12266-4a92-4760-9108-671c3605651c",
   "metadata": {},
   "source": [
    "plotHists: Plots one channel for one sample defined in the definitions for several numerators and denominators.\n",
    "plotAllChannelperSamp: Plots all channels per samples defined in processor for several numerators and denominators.\n",
    "plotStackedHists: Plots all channels for one sample defined in definitions for on numerator and denominator\n",
    "Num: The Dark Photon to Electron that matched the LeptonJet with the defined cuts in the egamma cuts.py. Changes for each channel.\n",
    "Denom: All the Dark Photons that don't necessarilty match the LJ for a Sample. Stays independent for each channel."
   ]
  },
  {
   "cell_type": "markdown",
   "id": "5d8aaf07-4b36-442a-ba1d-008085cb9ccf",
   "metadata": {
    "jp-MarkdownHeadingCollapsed": true,
    "tags": []
   },
   "source": [
    "# Definitions"
   ]
  },
  {
   "cell_type": "code",
   "execution_count": null,
   "id": "7aa19335-9bf2-4d67-b9aa-bc87a4dabcf6",
   "metadata": {
    "jupyter": {
     "source_hidden": true
    },
    "tags": []
   },
   "outputs": [],
   "source": [
    "def plotHists(nums, denoms, channels, errorBars=True, sample=samples[4]):\n",
    "    if len(nums) != len(denoms):\n",
    "        print(\"Need an even number of numerator and denominator histograms!\")\n",
    "        return\n",
    "    \n",
    "    ncol = 2\n",
    "    nrow = 2\n",
    "    \n",
    "    NumUniquePlots = len(nums)*len(channels)\n",
    "    \n",
    "    \n",
    "    if (NumUniquePlots%2) == 0:\n",
    "        nrow = NumUniquePlots\n",
    "    else:\n",
    "        nrow = NumUniquePlots+1\n",
    "        \n",
    "    print(nrow, ncol)\n",
    "    \n",
    "    fig, axs = plt.subplots(nrow,ncol,figsize=(ncol*15, nrow*9))\n",
    "    axs_flat = axs.flatten()\n",
    "    \n",
    "    print(type(axs[0]))\n",
    "    \n",
    "    subplotidx = 0\n",
    "    \n",
    "    for i, num in enumerate(nums): \n",
    "        denom = denoms[i]\n",
    "        \n",
    "        for channel in channels:\n",
    "            num_hist =  out[sample][\"hists\"][num][channel,:]\n",
    "            denom_hist =  out[sample][\"hists\"][denom][channel,:]\n",
    "\n",
    "            # Calculate the efficiency and associated errors\n",
    "            eff_hist, errors = utilities.get_eff_hist(num_hist, denom_hist)\n",
    "    \n",
    "            num_hist.plot1d(ax=axs_flat[subplotidx],label=num)\n",
    "            denom_hist.plot1d(ax=axs_flat[subplotidx],label=denom)\n",
    "            axs_flat[subplotidx].set_title(channel)\n",
    "            axs_flat[subplotidx+2].set_title(channel)\n",
    "            eff_hist.plot1d(ax=axs_flat[subplotidx+2],yerr=errors)\n",
    "            subplotidx = subplotidx+1\n",
    "            if (subplotidx %2)==0:\n",
    "                subplotidx = subplotidx+2"
   ]
  },
  {
   "cell_type": "code",
   "execution_count": 4,
   "id": "6f20322a-5b51-4eb9-861f-3af58a3db52d",
   "metadata": {
    "jupyter": {
     "source_hidden": true
    },
    "tags": []
   },
   "outputs": [],
   "source": [
    "def plotAllChannelperSamp(nums, denoms, channels, samples, errorBars=True,upperlim=400j):\n",
    "    \n",
    "    if len(nums) != len(denoms):\n",
    "        print(\"Need the same number of numerator and denominator histograms!\")\n",
    "        return\n",
    "    \n",
    "    ncol = 2\n",
    "    \n",
    "    #automatically calculates how many rows we need\n",
    "    \n",
    "    rows_per_sample = 2 * ((len(nums) + 1) // 2)\n",
    "    nrow = len(samples)*rows_per_sample\n",
    "    \n",
    "    fig, axs = plt.subplots(nrow,ncol,figsize=(ncol*15, nrow*9))\n",
    "    axs_flat = axs.flatten()\n",
    "    plt.tight_layout()\n",
    "    subplotidx = 0\n",
    "\n",
    "    for j, sample in enumerate(samples):\n",
    "        for i in range(len(nums)):\n",
    "            \n",
    "    # This is a fancy way to draw the plots in the right order\n",
    "        \n",
    "            subplotidx = j * rows_per_sample * ncol + 2 * (i // ncol) * ncol + (i % ncol)\n",
    "            num = nums[i]\n",
    "            denom = denoms[i]\n",
    "            \n",
    "    # Is the same for all channels so only needs to be plotted once\n",
    "            denom_hist =  out[sample][\"hists\"][denom][channels[0], :upperlim]\n",
    "            denom_hist.plot1d(ax=axs_flat[subplotidx],label=denom)\n",
    "            for channel in channels:\n",
    "                num_hist = out[sample][\"hists\"][num][channel, :upperlim]\n",
    "               \n",
    "    # Calculate the efficiency and associated errors\n",
    "                eff_hist, errors = utilities.get_eff_hist(num_hist, denom_hist)\n",
    "           \n",
    "                \n",
    "    # plotting num and denom hists\n",
    "                num_hist.plot1d(ax=axs_flat[subplotidx],label= channel)\n",
    "                \n",
    "                axs_flat[subplotidx].set_ylabel(\"Number of Events\")\n",
    "                axs_flat[subplotidx].set_title(f\"{num} - {sample}\")\n",
    "                axs_flat[subplotidx].legend()\n",
    "\n",
    "    # plotting effiecencies\n",
    "                axs_flat[subplotidx + ncol].set_title(f\"Efficiency for Sample {sample}\")\n",
    "                eff_hist.plot1d(ax=axs_flat[subplotidx + ncol], yerr=errors, label=channel)\n",
    "                axs_flat[subplotidx + ncol].set_ylabel(\"Efficiency\")\n",
    "                axs_flat[subplotidx + ncol].legend()\n",
    "                \n",
    "\n",
    "         "
   ]
  },
  {
   "cell_type": "code",
   "execution_count": null,
   "id": "4ecc4786-9d60-4d9f-a679-b1b835c811c2",
   "metadata": {
    "jupyter": {
     "source_hidden": true
    },
    "tags": []
   },
   "outputs": [],
   "source": [
    "def plotStackedHists(nums, denom, channels, errorBars=True, sample=samples[4]):\n",
    "    out = output[\"out\"][sample]\n",
    "    ncol = 1\n",
    "    nrow = 2\n",
    "       \n",
    "    fig, axs = plt.subplots(nrow,ncol,figsize=(ncol*20, nrow*10))\n",
    "    plt.tight_layout()\n",
    "    axs_flat = axs.flatten()\n",
    "            \n",
    "    for i, num in enumerate(nums): \n",
    "        denom_hist =  out[\"hists\"][denom][channels[0],:]\n",
    "        denom_hist.plot1d(ax=axs_flat[0],label=denom)\n",
    "        \n",
    "        for channel in channels:\n",
    "            num_hist =  out[\"hists\"][num][channel,:]\n",
    "\n",
    "            # Calculate the efficiency and associated errors\n",
    "            eff_hist, errors = utilities.get_eff_hist(num_hist, denom_hist)\n",
    "    \n",
    "            num_hist.plot1d(ax=axs_flat[0],label=channel)\n",
    "            axs_flat[0].set_title(denom)\n",
    "            axs_flat[0].set_ylabel(\"Number of Events\")\n",
    "            axs_flat[1].set_ylabel(\"Effiency\")\n",
    "            \n",
    "        #plotstacked hists for multiple samples, agaisnts all channels. loop over all of the samples. create a subplotidx for plotstacked in order to get a subplot for each sample \n",
    "            \n",
    "            #add a title for specific plots, maybe sample name\n",
    "            #add a ylabel to the plots \n",
    "            axs_flat[1].set_title(channel) #let's chqange the title to sample name \n",
    "            eff_hist.plot1d(ax=axs_flat[1],yerr=errors, label=channel)\n",
    "    axs_flat[1].legend()\n",
    "    axs_flat[0].legend()"
   ]
  },
  {
   "cell_type": "markdown",
   "id": "2ca4c9ce-5465-4d16-9ee9-d4b5606aa7ec",
   "metadata": {
    "jp-MarkdownHeadingCollapsed": true,
    "tags": []
   },
   "source": [
    "# Dark Photon Pt/Dark Photon Lxy\n",
    "1 Channel for 1 Sample"
   ]
  },
  {
   "cell_type": "code",
   "execution_count": null,
   "id": "5a3a0e2f-8dee-45cc-97f8-26775d5dfff0",
   "metadata": {
    "tags": []
   },
   "outputs": [],
   "source": [
    "plotHists([\"genA_toE_matched_egmLj_pt_highRange\",\"genA_toE_matched_egmLj_lxy\"], [\"genAs_toE_pt_highRange\",\"genAs_toE_lxy\"], \n",
    "          [\"AllEvts_PixelSeedPhotons\",\"AllEvts_PixelSeedPhotonsOrIsoPhotons\",\n",
    "           \"AllEvts_ElectronVetoPhotons\",\"AllEvts_ElectronVetoPhotonsOrIsoPhotons\",\n",
    "          \"AllEvts_AllLoosePhotons\"], samples)"
   ]
  },
  {
   "cell_type": "code",
   "execution_count": null,
   "id": "636ae38b-f0cd-4ad4-a0d7-6299bfefcea4",
   "metadata": {
    "tags": []
   },
   "outputs": [],
   "source": [
    "plotHists([\"genA_toE_matched_egmLj_pt_highRange\",\"genA_toE_matched_egmLj_lxy\"], [\"genAs_toE_pt_highRange\",\"genAs_toE_lxy\"], \n",
    "          [\"AllEvts_PixelSeedPhotons\",\"AllEvts_PixelSeedPhotonsOrIsoPhotons\",\n",
    "           \"AllEvts_ElectronVetoPhotons\",\"AllEvts_ElectronVetoPhotonsOrIsoPhotons\",\n",
    "          \"AllEvts_AllLoosePhotons\"], samples)"
   ]
  },
  {
   "cell_type": "markdown",
   "id": "008e43b6-c3f3-49f3-8b17-e01da96ab7c6",
   "metadata": {
    "jp-MarkdownHeadingCollapsed": true,
    "tags": []
   },
   "source": [
    "# Dark Photon Pt/Dark Photon Lxy\n",
    "\n",
    "All stacked Channels per Sample"
   ]
  },
  {
   "cell_type": "markdown",
   "id": "879ccd70-0065-420d-b17a-9b85c2186bcd",
   "metadata": {},
   "source": [
    "We are going to use this plot to compare the other profiles of the different channels using sample [3] (Pt/Lxy)\n",
    "\n",
    "I think I just made plotstackedhists. Why are we plotting the num and the demon? Is this what we want to show? Are the labels correct?"
   ]
  },
  {
   "cell_type": "code",
   "execution_count": null,
   "id": "5a0c306b-ea2d-4d8b-991b-9acbcf0a252b",
   "metadata": {
    "tags": []
   },
   "outputs": [],
   "source": [
    "plotAllChannelperSamp([\"genA_toE_matched_egmLj_pt_highRange\",\"genA_toE_matched_egmLj_lxy\"], [\"genAs_toE_pt_highRange\",\"genAs_toE_lxy\"], \n",
    "          [\"AllEvts_PixelSeedPhotons\",\"AllEvts_PixelSeedPhotonsOrIsoPhotons\",\n",
    "           \"AllEvts_ElectronVetoPhotons\",\"AllEvts_ElectronVetoPhotonsOrIsoPhotons\",\n",
    "          \"AllEvts_AllLoosePhotons\"], samples, upperlim=400j)"
   ]
  },
  {
   "cell_type": "markdown",
   "id": "243ef093-3e13-4e6f-8957-5ec0413174f7",
   "metadata": {
    "jp-MarkdownHeadingCollapsed": true,
    "tags": []
   },
   "source": [
    "# High Range Matched Lxy\n",
    "Matched Dark Photons against all Dark Photons.\n",
    "All stacked channels for one sample"
   ]
  },
  {
   "cell_type": "code",
   "execution_count": null,
   "id": "1ac6712c-7d78-4475-8644-2e24002bbab9",
   "metadata": {
    "tags": []
   },
   "outputs": [],
   "source": [
    "plotStackedHists([\"genA_toE_matched_egmLj_lxy\"], \"genAs_toE_lxy\", \n",
    "          [\"AllEvts_PixelSeedPhotons\",\"AllEvts_PixelSeedPhotonsOrIsoPhotons\",\n",
    "           \"AllEvts_ElectronVetoPhotons\",\"AllEvts_ElectronVetoPhotonsOrIsoPhotons\",\n",
    "          \"AllEvts_AllLoosePhotons\"])"
   ]
  },
  {
   "cell_type": "code",
   "execution_count": null,
   "id": "b5909847-a38e-4464-9e26-18ca1de12049",
   "metadata": {
    "tags": []
   },
   "outputs": [],
   "source": [
    "plotStackedHists([\"genA_toE_matched_egmLj_pt_highRange\"], \"genAs_toE_pt_highRange\", \n",
    "          [\"AllEvts_PixelSeedPhotons\",\"AllEvts_PixelSeedPhotonsOrIsoPhotons\",\n",
    "           \"AllEvts_ElectronVetoPhotons\",\"AllEvts_ElectronVetoPhotonsOrIsoPhotons\",\n",
    "          \"AllEvts_AllLoosePhotons\"])"
   ]
  },
  {
   "cell_type": "markdown",
   "id": "6d38fdbc-e329-4c66-beb1-b13fe70679c9",
   "metadata": {
    "jp-MarkdownHeadingCollapsed": true,
    "tags": []
   },
   "source": [
    "# Subplotidx figurations"
   ]
  },
  {
   "cell_type": "code",
   "execution_count": null,
   "id": "5faeba5d-b597-48c6-9010-13697db42b86",
   "metadata": {},
   "outputs": [],
   "source": [
    "subplotidx = 0\n",
    "for num in range (1,2):\n",
    "    for sample in range (1,3):\n",
    "        for channel in range (1,6):\n",
    "            print (num, sample, channel)\n",
    "    subplotidx = subplotidx+1\n",
    "    if (subplotidx %2)==0:\n",
    "        subplotidx = subplotidx+2      \n",
    "    print (\"newidx = \", subplotidx)"
   ]
  },
  {
   "cell_type": "code",
   "execution_count": null,
   "id": "8be22198-def1-4207-a107-42fd476648fc",
   "metadata": {
    "tags": []
   },
   "outputs": [],
   "source": [
    "subplotidx = 0\n",
    "for i, sample in enumerate(samples):\n",
    "    for num in range (0,2):\n",
    "        for channel in range (1,6):\n",
    "            print (num, sample, channel)\n",
    "        subplotidx = subplotidx+1\n",
    "        if (subplotidx %2)==0:\n",
    "            subplotidx = subplotidx+2      \n",
    "        print (\"newidx = \", subplotidx)"
   ]
  },
  {
   "cell_type": "code",
   "execution_count": null,
   "id": "313e923b-4f00-4c6d-b9b2-f535fb347670",
   "metadata": {},
   "outputs": [],
   "source": []
  }
 ],
 "metadata": {
  "kernelspec": {
   "display_name": "Python 3 (ipykernel)",
   "language": "python",
   "name": "python3"
  },
  "language_info": {
   "codemirror_mode": {
    "name": "ipython",
    "version": 3
   },
   "file_extension": ".py",
   "mimetype": "text/x-python",
   "name": "python",
   "nbconvert_exporter": "python",
   "pygments_lexer": "ipython3",
   "version": "3.9.18"
  }
 },
 "nbformat": 4,
 "nbformat_minor": 5
}
