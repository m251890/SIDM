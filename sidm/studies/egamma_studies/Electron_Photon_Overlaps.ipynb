{
 "cells": [
  {
   "cell_type": "markdown",
   "id": "6f2be0a4-e41c-4360-a649-e8536b874cdb",
   "metadata": {},
   "source": [
    "The purpose of this notebook is to evaluate the electron and photon IDs and determine the best way to handle potential overlaps. It borrows from some of the nice efficiency studies from Maria in the lj_reco_efficiency directory.\n",
    "\n",
    "Logistics:\n",
    "\n",
    "Need to study 2mu2e sample; copied part of Dongyub's yaml to this branch\n",
    "For now, just studying the effects with the normal loose electron ID, not the loose ID minus n missing hits\n",
    "Defined five new cuts, keeping all events but varying the photon ID definition:\n",
    "- Loose photons\n",
    "- Loose photons that also pass the electron conversion veto\n",
    "- Loose photons that also pass the electron conversion veto or are far away from electrons\n",
    "- Loose photons that also pass the pixel seed veto\n",
    "- Loose photons that also pass the pixel seed veto or are far away from electrons\n",
    "\n",
    "Current step: Check effect on efficiency (and invariant mass?) plots"
   ]
  },
  {
   "cell_type": "code",
   "execution_count": null,
   "id": "bdcfb0a8-3fb4-4ddd-81fe-40247c9fa7e5",
   "metadata": {
    "tags": []
   },
   "outputs": [],
   "source": [
    "# python\n",
    "import sys\n",
    "import os\n",
    "import importlib\n",
    "import numpy as np\n",
    "# columnar analysis\n",
    "import awkward as ak\n",
    "from coffea.nanoevents import NanoEventsFactory, NanoAODSchema\n",
    "from coffea import processor\n",
    "# local\n",
    "sys.path.insert(1, os.path.join(sys.path[0], '../../..')) # fixme: there must be a better way to handle this...\n",
    "from sidm.tools import sidm_processor, utilities\n",
    "# always reload local modules to pick up changes during development\n",
    "importlib.reload(sidm_processor)\n",
    "importlib.reload(utilities)\n",
    "# plotting\n",
    "import matplotlib.pyplot as plt\n",
    "from matplotlib.artist import Artist \n",
    "utilities.set_plot_style()\n",
    "%matplotlib inline"
   ]
  },
  {
   "cell_type": "code",
   "execution_count": null,
   "id": "558c8fa2-3487-433f-85f5-bc596da1f494",
   "metadata": {
    "tags": []
   },
   "outputs": [],
   "source": [
    "samples = [\n",
    "    '2mu2e_500GeV_5GeV_0p08mm',\n",
    "    '2mu2e_500GeV_5GeV_0p8mm',\n",
    "    '2mu2e_500GeV_5GeV_8p0mm',\n",
    "    '2mu2e_500GeV_5GeV_40p0mm',\n",
    "    '2mu2e_500GeV_5GeV_80p0mm'    \n",
    "]\n",
    "fileset = utilities.make_fileset(samples, \"llpNanoAOD_v2_merged\")\n",
    "\n",
    "runner = processor.Runner(\n",
    "    executor=processor.IterativeExecutor(),\n",
    "    #executor=processor.FuturesExecutor(),\n",
    "    schema=NanoAODSchema,\n",
    "    # maxchunks=1,\n",
    ")\n",
    "\n",
    "p = sidm_processor.SidmProcessor(\n",
    "    [\n",
    "        \"AllEvts_ElectronVetoPhotons\", \"AllEvts_ElectronVetoPhotonsOrIsoPhotons\", \n",
    "        \"AllEvts_PixelSeedPhotons\", \"AllEvts_PixelSeedPhotonsOrIsoPhotons\",\n",
    "        \"AllEvts_AllLoosePhotons\"\n",
    "        #GED photons are iso photons passed the PF ID\n",
    "    ],\n",
    "    [\"gen_base\"],\n",
    "    lj_reco_choices=[\"0.4\"],\n",
    "    llpnanoaod=True,\n",
    "    verbose=False,\n",
    ")\n",
    "\n",
    "output = runner.run(fileset, treename='Events', processor_instance=p)\n",
    "out = output[\"out\"]['2mu2e_500GeV_5GeV_0p08mm']"
   ]
  },
  {
   "cell_type": "markdown",
   "id": "5d8aaf07-4b36-442a-ba1d-008085cb9ccf",
   "metadata": {
    "tags": []
   },
   "source": [
    "# Definitions"
   ]
  },
  {
   "cell_type": "code",
   "execution_count": null,
   "id": "f8f991ba-eda1-473c-9c66-a2d4a0df44a5",
   "metadata": {
    "tags": []
   },
   "outputs": [],
   "source": [
    "#here is where you should define your upper limit here for hist \n",
    "def plotHists(nums, denoms, channels, errorBars=True, sample=samples[3], upperlim=-1):\n",
    "    if len(nums) != len(denoms):\n",
    "        print(\"Need an even number of numerator and denominator histograms!\")\n",
    "        return\n",
    "    \n",
    "    ncol = 2\n",
    "    nrow = 2\n",
    "    \n",
    "    NumUniquePlots = len(nums)*len(channels)\n",
    "    \n",
    "    \n",
    "    if (NumUniquePlots%2) == 0:\n",
    "        nrow = NumUniquePlots\n",
    "    else:\n",
    "        nrow = NumUniquePlots+1\n",
    "        \n",
    "    print(nrow, ncol)\n",
    "    \n",
    "    fig, axs = plt.subplots(nrow,ncol,figsize=(ncol*15, nrow*9))\n",
    "    axs_flat = axs.flatten()\n",
    "    plt.tight_layout()\n",
    "    \n",
    "    print(type(axs[0]))\n",
    "    \n",
    "    subplotidx = 0\n",
    "    \n",
    "    for i, num in enumerate(nums): \n",
    "        denom = denoms[i]\n",
    "        \n",
    "        for channel in channels:\n",
    "    \n",
    "            if upperlim==-1:\n",
    "                num_hist =  out[\"hists\"][num][channel, :]\n",
    "                denom_hist = out[\"hists\"][denom][channel, :]\n",
    "            else: \n",
    "                num_hist = out[\"hists\"][num][channel, :400j]\n",
    "                denom_hist =  out[\"hists\"][denom][channel,:400j]\n",
    "\n",
    "            # Calculate the efficiency and associated errors\n",
    "            eff_hist, errors = utilities.get_eff_hist(num_hist, denom_hist)\n",
    "    \n",
    "            num_hist.plot1d(ax=axs_flat[subplotidx],label=num)\n",
    "            denom_hist.plot1d(ax=axs_flat[subplotidx],label=denom)\n",
    "            axs_flat[subplotidx].set_title(channel)\n",
    "            axs_flat[subplotidx].set_ylabel(\"Number of Events\")\n",
    "            axs_flat[subplotidx+2].set_title(\"Effiency for \"+ channel)\n",
    "            #add a list: ch_titles = [\"Pixel Seed...\"] abover for loop and include all the different channels in order\n",
    "            #for subplots, use axs_flat.. to add a legend using the labels found above\n",
    "            axs_flat[subplotidx].legend()\n",
    "            eff_hist.plot1d(ax=axs_flat[subplotidx+2],yerr=errors)\n",
    "            #axs_flat[subplotidx+2].legend()\n",
    "            axs_flat[subplotidx+2].set_ylabel(\"Effiency\")\n",
    "            subplotidx = subplotidx+1\n",
    "            if (subplotidx %2)==0:\n",
    "                subplotidx = subplotidx+2"
   ]
  },
  {
   "cell_type": "raw",
   "id": "b36336cd-09b2-4668-95a7-779650f8fc4b",
   "metadata": {
    "jupyter": {
     "source_hidden": true
    },
    "tags": []
   },
   "source": [
    "def plotHists(nums, denoms, channels, errorBars=True, sample=samples[3]):\n",
    "    if len(nums) != len(denoms):\n",
    "        print(\"Need an even number of numerator and denominator histograms!\")\n",
    "        return\n",
    "    \n",
    "    ncol = 2\n",
    "    num_plots = len(nums) * len(channels)\n",
    "    nrow = (num_plots + 1) // 2  # Calculate rows required, ensuring enough space for all plots\n",
    "    \n",
    "    fig, axs = plt.subplots(nrow, ncol, figsize=(ncol * 15, nrow * 9))\n",
    "    axs_flat = axs.flatten()\n",
    "    \n",
    "    # Check if there are more plots than subplots available\n",
    "    if num_plots > len(axs_flat):\n",
    "        print(\"Not enough subplots for all histograms!\")\n",
    "        return\n",
    "    \n",
    "    plt.tight_layout()\n",
    "    \n",
    "    subplotidx = 0\n",
    "    \n",
    "    for i, num in enumerate(nums): \n",
    "        denom = denoms[i]\n",
    "        \n",
    "        for channel in channels:\n",
    "            num_hist = out[\"hists\"][num][channel, :]\n",
    "            denom_hist = out[\"hists\"][denom][channel, :]\n",
    "            \n",
    "            # Calculate the efficiency and associated errors\n",
    "            eff_hist, errors = utilities.get_eff_hist(num_hist, denom_hist)\n",
    "            \n",
    "            # histogram plot\n",
    "            num_hist.plot1d(ax=axs_flat[subplotidx], label=num)\n",
    "            denom_hist.plot1d(ax=axs_flat[subplotidx], label=denom)\n",
    "            axs_flat[subplotidx].set_title(f\"{channel} - Histograms\")\n",
    "            axs_flat[subplotidx].set_ylabel(\"Number of Events\")\n",
    "            axs_flat[subplotidx].legend()\n",
    "            \n",
    "            #efficiency plot\n",
    "            if (subplotidx + 1) < len(axs_flat):\n",
    "                eff_hist.plot1d(ax=axs_flat[subplotidx + 1], yerr=errors if errorBars else None)\n",
    "                axs_flat[subplotidx + 1].set_title(f\"{channel} - Efficiency\")\n",
    "                axs_flat[subplotidx + 1].set_ylabel(\"Efficiency\")\n",
    "            else:\n",
    "                print(f\"Index out of bounds: subplot index {subplotidx}\")\n",
    "                return\n",
    "            \n",
    "            subplotidx += 2  # Move to the next pair of subplots"
   ]
  },
  {
   "cell_type": "code",
   "execution_count": null,
   "id": "4ecc4786-9d60-4d9f-a679-b1b835c811c2",
   "metadata": {
    "tags": []
   },
   "outputs": [],
   "source": [
    "def plotStackedHists(nums, denom, channels, errorBars=True, sample=samples[4]):\n",
    "    out = output[\"out\"][sample]\n",
    "    ncol = 1\n",
    "    nrow = 2\n",
    "       \n",
    "    fig, axs = plt.subplots(nrow,ncol,figsize=(ncol*20, nrow*10))\n",
    "    plt.tight_layout()\n",
    "    axs_flat = axs.flatten()\n",
    "            \n",
    "    for i, num in enumerate(nums): \n",
    "        denom_hist =  out[\"hists\"][denom][channels[0],:]\n",
    "        denom_hist.plot1d(ax=axs_flat[0],label=denom)\n",
    "        \n",
    "        for channel in channels:\n",
    "            num_hist =  out[\"hists\"][num][channel,:]\n",
    "\n",
    "            # Calculate the efficiency and associated errors\n",
    "            eff_hist, errors = utilities.get_eff_hist(num_hist, denom_hist)\n",
    "    \n",
    "            num_hist.plot1d(ax=axs_flat[0],label=channel)\n",
    "            axs_flat[0].set_title(denom)\n",
    "            axs_flat[0].set_ylabel(\"Number of Events\")\n",
    "            axs_flat[1].set_ylabel(\"Effiency\")\n",
    "            \n",
    "        \n",
    "            \n",
    "            #add a title for specific plots, maybe sample name\n",
    "            #add a ylabel to the plots \n",
    "            axs_flat[1].set_title(channel)\n",
    "            eff_hist.plot1d(ax=axs_flat[1],yerr=errors, label=channel)\n",
    "    axs_flat[1].legend()\n",
    "    axs_flat[0].legend()"
   ]
  },
  {
   "cell_type": "markdown",
   "id": "008e43b6-c3f3-49f3-8b17-e01da96ab7c6",
   "metadata": {
    "tags": []
   },
   "source": [
    "# Dark Photon Pt/Dark Photon Lxy"
   ]
  },
  {
   "cell_type": "code",
   "execution_count": null,
   "id": "20490e2b-7b06-4157-9a45-9df12317bd57",
   "metadata": {
    "jupyter": {
     "source_hidden": true
    },
    "tags": []
   },
   "outputs": [],
   "source": [
    "out[\"hists\"][\"genAs_toE_lxy\"][\"AllEvts_AllLoosePhotons\",:].plot()\n",
    "plt.title('All Dark Photons')\n",
    "plt.ylabel('Number of Events')"
   ]
  },
  {
   "cell_type": "markdown",
   "id": "879ccd70-0065-420d-b17a-9b85c2186bcd",
   "metadata": {},
   "source": [
    "We are going to use this plot to compare the other profiles of the different channels using sample [3] (Pt/Lxy)"
   ]
  },
  {
   "cell_type": "code",
   "execution_count": null,
   "id": "5a0c306b-ea2d-4d8b-991b-9acbcf0a252b",
   "metadata": {
    "tags": []
   },
   "outputs": [],
   "source": [
    "plotHists([\"genA_toE_matched_egmLj_pt_highRange\",\"genA_toE_matched_egmLj_lxy\"], [\"genAs_toE_pt_highRange\",\"genAs_toE_lxy\"], \n",
    "          [\"AllEvts_PixelSeedPhotons\",\"AllEvts_PixelSeedPhotonsOrIsoPhotons\",\n",
    "           \"AllEvts_ElectronVetoPhotons\",\"AllEvts_ElectronVetoPhotonsOrIsoPhotons\",\n",
    "          \"AllEvts_AllLoosePhotons\"], sample = samples[3], upperlim=400)\n",
    "#make it automatic so that we can change plot.hist and have every other hist change as well"
   ]
  },
  {
   "cell_type": "markdown",
   "id": "243ef093-3e13-4e6f-8957-5ec0413174f7",
   "metadata": {
    "tags": []
   },
   "source": [
    "# Stacked Histograms of High Range pt\n",
    "Matched Dark Photons against ..."
   ]
  },
  {
   "cell_type": "code",
   "execution_count": null,
   "id": "1ac6712c-7d78-4475-8644-2e24002bbab9",
   "metadata": {
    "tags": []
   },
   "outputs": [],
   "source": [
    "plotStackedHists([\"genA_toE_matched_egmLj_lxy\"], \"genAs_toE_lxy\", \n",
    "          [\"AllEvts_PixelSeedPhotons\",\"AllEvts_PixelSeedPhotonsOrIsoPhotons\",\n",
    "           \"AllEvts_ElectronVetoPhotons\",\"AllEvts_ElectronVetoPhotonsOrIsoPhotons\",\n",
    "          \"AllEvts_AllLoosePhotons\"])"
   ]
  },
  {
   "cell_type": "code",
   "execution_count": null,
   "id": "b5909847-a38e-4464-9e26-18ca1de12049",
   "metadata": {
    "tags": []
   },
   "outputs": [],
   "source": [
    "plotStackedHists([\"genA_toE_matched_egmLj_pt_highRange\"], \"genAs_toE_pt_highRange\", \n",
    "          [\"AllEvts_PixelSeedPhotons\",\"AllEvts_PixelSeedPhotonsOrIsoPhotons\",\n",
    "           \"AllEvts_ElectronVetoPhotons\",\"AllEvts_ElectronVetoPhotonsOrIsoPhotons\",\n",
    "          \"AllEvts_AllLoosePhotons\"])"
   ]
  },
  {
   "cell_type": "code",
   "execution_count": null,
   "id": "3546fd31-2148-4c27-af08-d8c2c5daa860",
   "metadata": {},
   "outputs": [],
   "source": []
  }
 ],
 "metadata": {
  "kernelspec": {
   "display_name": "Python 3 (ipykernel)",
   "language": "python",
   "name": "python3"
  },
  "language_info": {
   "codemirror_mode": {
    "name": "ipython",
    "version": 3
   },
   "file_extension": ".py",
   "mimetype": "text/x-python",
   "name": "python",
   "nbconvert_exporter": "python",
   "pygments_lexer": "ipython3",
   "version": "3.9.18"
  }
 },
 "nbformat": 4,
 "nbformat_minor": 5
}
