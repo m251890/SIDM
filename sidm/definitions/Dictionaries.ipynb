{
 "cells": [
  {
   "cell_type": "code",
   "execution_count": 43,
   "id": "b7653f3e-49b0-44d4-bdec-c1e18d664b8d",
   "metadata": {
    "tags": []
   },
   "outputs": [],
   "source": [
    "thisdict = {\n",
    "    \"electron_GsfEleDEtaInSeedCut2d\": 34,\n",
    "    \"electron_GsfEleDPhiInCut2d\" : 78,\n",
    "    \"electron_GsfEleEInverseMinusPInverseCut2d\" : 52 ,\n",
    "    \"electron_GsfEleFull5x5SigmaIEtaIEtaCut2d\" : 36 ,\n",
    "    \"electron_GsfEleConversionVetoCut2d\" : 1 ,\n",
    "    \"electron_GsfEleMissingHitsCut2d\" : 0 ,\n",
    "    \n",
    "#add the rest of the variable sand their bin number\n",
    "}"
   ]
  },
  {
   "cell_type": "code",
   "execution_count": 44,
   "id": "6bd8cd41-83a8-447a-8fc0-71de94707cbc",
   "metadata": {
    "tags": []
   },
   "outputs": [
    {
     "name": "stdout",
     "output_type": "stream",
     "text": [
      "{'electron_GsfEleDEtaInSeedCut2d': 34, 'electron_GsfEleDPhiInCut2d': 78, 'electron_GsfEleEInverseMinusPInverseCut2d': 52, 'electron_GsfEleFull5x5SigmaIEtaIEtaCut2d': 36, 'electron_GsfEleConversionVetoCut2d': 1, 'electron_GsfEleMissingHitsCut2d': 0}\n"
     ]
    }
   ],
   "source": [
    "print(thisdict)\n",
    "    # this will print the var,bin_number and we can paste this into google sheets "
   ]
  },
  {
   "cell_type": "code",
   "execution_count": 41,
   "id": "294cede2-cb9c-4c24-843f-cb821c410e34",
   "metadata": {
    "tags": []
   },
   "outputs": [],
   "source": [
    "lxy=[0,3,5,101]\n",
    "percents = [0,0,0]"
   ]
  },
  {
   "cell_type": "code",
   "execution_count": 34,
   "id": "54fec36e-0fab-4b49-90a7-ab96246caa43",
   "metadata": {
    "tags": []
   },
   "outputs": [
    {
     "name": "stdout",
     "output_type": "stream",
     "text": [
      "0 3\n",
      "3 5\n",
      "5 101\n"
     ]
    }
   ],
   "source": [
    "for i in range (0,3):\n",
    "    print(lxy[i], lxy[i+1])"
   ]
  },
  {
   "cell_type": "code",
   "execution_count": 52,
   "id": "c681f4d9-99c4-4a26-b53d-102dadca95a8",
   "metadata": {
    "tags": []
   },
   "outputs": [
    {
     "ename": "NameError",
     "evalue": "name 'output' is not defined",
     "output_type": "error",
     "traceback": [
      "\u001b[0;31m---------------------------------------------------------------------------\u001b[0m",
      "\u001b[0;31mNameError\u001b[0m                                 Traceback (most recent call last)",
      "Cell \u001b[0;32mIn[52], line 3\u001b[0m\n\u001b[1;32m      1\u001b[0m lxy \u001b[38;5;241m=\u001b[39m [\u001b[38;5;241m0\u001b[39m,\u001b[38;5;241m4\u001b[39m,\u001b[38;5;241m6\u001b[39m,\u001b[38;5;241m102\u001b[39m]\n\u001b[1;32m      2\u001b[0m binnum \u001b[38;5;241m=\u001b[39m \u001b[38;5;241m15\u001b[39m\n\u001b[0;32m----> 3\u001b[0m hists \u001b[38;5;241m=\u001b[39m  \u001b[43moutput\u001b[49m[\u001b[38;5;124m\"\u001b[39m\u001b[38;5;124mout\u001b[39m\u001b[38;5;124m\"\u001b[39m][\u001b[38;5;124m\"\u001b[39m\u001b[38;5;124m2Mu2E_100GeV_0p25GeV_20mm\u001b[39m\u001b[38;5;124m\"\u001b[39m][\u001b[38;5;124m\"\u001b[39m\u001b[38;5;124mhists\u001b[39m\u001b[38;5;124m\"\u001b[39m]\n\u001b[1;32m      4\u001b[0m \u001b[38;5;28;01mfor\u001b[39;00m histname \u001b[38;5;129;01min\u001b[39;00m [\u001b[38;5;124m\"\u001b[39m\u001b[38;5;124melectron_GsfEleDPhiInCut2d\u001b[39m\u001b[38;5;124m\"\u001b[39m,\u001b[38;5;124m\"\u001b[39m\u001b[38;5;124melectron_GsfEleDEtaInSeedCut2d\u001b[39m\u001b[38;5;124m\"\u001b[39m, \u001b[38;5;124m\"\u001b[39m\u001b[38;5;124melectron_GsfEleEInverseMinusPInverseCut2d\u001b[39m\u001b[38;5;124m\"\u001b[39m]:\n\u001b[1;32m      5\u001b[0m     values \u001b[38;5;241m=\u001b[39m output[\u001b[38;5;124m\"\u001b[39m\u001b[38;5;124mout\u001b[39m\u001b[38;5;124m\"\u001b[39m][\u001b[38;5;124m\"\u001b[39m\u001b[38;5;124m2Mu2E_100GeV_0p25GeV_20mm\u001b[39m\u001b[38;5;124m\"\u001b[39m][\u001b[38;5;124m\"\u001b[39m\u001b[38;5;124mhists\u001b[39m\u001b[38;5;124m\"\u001b[39m][histname][channels[\u001b[38;5;241m1\u001b[39m],:,:]\u001b[38;5;241m.\u001b[39mvalues(flow\u001b[38;5;241m=\u001b[39m\u001b[38;5;28;01mTrue\u001b[39;00m)\n",
      "\u001b[0;31mNameError\u001b[0m: name 'output' is not defined"
     ]
    }
   ],
   "source": [
    "lxy = [0,4,6,102]\n",
    "binnum = 15\n",
    "hists =  output[\"out\"][\"2Mu2E_100GeV_0p25GeV_20mm\"][\"hists\"]\n",
    "for histname in [\"electron_GsfEleDPhiInCut2d\",\"electron_GsfEleDEtaInSeedCut2d\", \"electron_GsfEleEInverseMinusPInverseCut2d\"]:\n",
    "    values = output[\"out\"][\"2Mu2E_100GeV_0p25GeV_20mm\"][\"hists\"][histname][channels[1],:,:].values(flow=True)\n",
    "    print(histname)\n",
    "    for i in range(0,3):\n",
    "# Add up all electrons in that lxy range \n",
    "        total = values[lxy[i]:lxy[i+1],:].sum()\n",
    "  # Add up all electrons in that lxy range that are in a bin greater than binnum\n",
    "        fail = values[lxy[i]:lxy[i+1],binnum:].sum()\n",
    "        rate = fail/total*100\n",
    "        print(total, fail, rate)\n",
    "    print(\"******\")"
   ]
  },
  {
   "cell_type": "code",
   "execution_count": null,
   "id": "7fbc0c6f-0e64-4466-8d42-5c6c7dca88ea",
   "metadata": {},
   "outputs": [],
   "source": []
  }
 ],
 "metadata": {
  "kernelspec": {
   "display_name": "Python 3 (ipykernel)",
   "language": "python",
   "name": "python3"
  },
  "language_info": {
   "codemirror_mode": {
    "name": "ipython",
    "version": 3
   },
   "file_extension": ".py",
   "mimetype": "text/x-python",
   "name": "python",
   "nbconvert_exporter": "python",
   "pygments_lexer": "ipython3",
   "version": "3.9.18"
  }
 },
 "nbformat": 4,
 "nbformat_minor": 5
}
